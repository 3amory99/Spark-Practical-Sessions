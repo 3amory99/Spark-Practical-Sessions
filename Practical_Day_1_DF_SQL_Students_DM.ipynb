{
 "cells": [
  {
   "cell_type": "markdown",
   "id": "05f1e8db",
   "metadata": {},
   "source": [
    "# **Labs 1 and 2 PySpark:**\n",
    "\n",
    "In these labs we will be using the \"[[NeurIPS 2020] Data Science for COVID-19 (DS4C)](https://www.kaggle.com/datasets/kimjihoo/coronavirusdataset?select=PatientInfo.csv)\" dataset, retrieved from [Kaggle](https://www.kaggle.com/) on 1/6/2022, for educational non commercial purpose, License\n",
    "[CC BY-NC-SA 4.0\n",
    "](https://creativecommons.org/licenses/by-nc-sa/4.0/)\n",
    "\n",
    "\n",
    "The csv file that we will be using in this lab is **PatientInfo**."
   ]
  },
  {
   "cell_type": "markdown",
   "id": "3ac9bbf0",
   "metadata": {},
   "source": [
    "## PatientInfo.csv\n",
    "\n",
    "**patient_id**\n",
    "the ID of the patient\n",
    "\n",
    "**sex**\n",
    "the sex of the patient\n",
    "\n",
    "**age**\n",
    "the age of the patient\n",
    "\n",
    "**country**\n",
    "the country of the patient\n",
    "\n",
    "**province**\n",
    "the province of the patient\n",
    "\n",
    "**city**\n",
    "the city of the patient\n",
    "\n",
    "**infection_case**\n",
    "the case of infection\n",
    "\n",
    "**infected_by**\n",
    "the ID of who infected the patient\n",
    "\n",
    "\n",
    "**contact_number**\n",
    "the number of contacts with people\n",
    "\n",
    "**symptom_onset_date**\n",
    "the date of symptom onset\n",
    "\n",
    "**confirmed_date**\n",
    "the date of being confirmed\n",
    "\n",
    "**released_date**\n",
    "the date of being released\n",
    "\n",
    "**deceased_date**\n",
    "the date of being deceased\n",
    "\n",
    "**state**\n",
    "isolated / released / deceased"
   ]
  },
  {
   "cell_type": "markdown",
   "id": "34b6f619",
   "metadata": {},
   "source": [
    "### Import the pyspark and check it's version"
   ]
  },
  {
   "cell_type": "code",
   "execution_count": 1,
   "id": "29fe2ddc",
   "metadata": {},
   "outputs": [
    {
     "data": {
      "text/plain": [
       "'3.5.0'"
      ]
     },
     "execution_count": 1,
     "metadata": {},
     "output_type": "execute_result"
    }
   ],
   "source": [
    "import pyspark\n",
    "spark.version"
   ]
  },
  {
   "cell_type": "markdown",
   "id": "70c0fc8e",
   "metadata": {},
   "source": [
    "### Import and create SparkSession"
   ]
  },
  {
   "cell_type": "code",
   "execution_count": 2,
   "id": "94904228",
   "metadata": {},
   "outputs": [
    {
     "data": {
      "text/html": [
       "\n",
       "            <div>\n",
       "                <p><b>SparkSession - hive</b></p>\n",
       "                \n",
       "        <div>\n",
       "            <p><b>SparkContext</b></p>\n",
       "\n",
       "            <p><a href=\"http://3omda:4040\">Spark UI</a></p>\n",
       "\n",
       "            <dl>\n",
       "              <dt>Version</dt>\n",
       "                <dd><code>v3.5.0</code></dd>\n",
       "              <dt>Master</dt>\n",
       "                <dd><code>local[*]</code></dd>\n",
       "              <dt>AppName</dt>\n",
       "                <dd><code>PySparkShell</code></dd>\n",
       "            </dl>\n",
       "        </div>\n",
       "        \n",
       "            </div>\n",
       "        "
      ],
      "text/plain": [
       "<pyspark.sql.session.SparkSession at 0x7f68e3948790>"
      ]
     },
     "execution_count": 2,
     "metadata": {},
     "output_type": "execute_result"
    }
   ],
   "source": [
    "from pyspark.sql import SparkSession\n",
    "spark = SparkSession.builder.getOrCreate()\n",
    "spark"
   ]
  },
  {
   "cell_type": "markdown",
   "id": "7356d68d",
   "metadata": {},
   "source": [
    "### Load the PatientInfo.csv file and show the first 5 rows"
   ]
  },
  {
   "cell_type": "code",
   "execution_count": 3,
   "id": "d5185728",
   "metadata": {},
   "outputs": [
    {
     "data": {
      "text/html": [
       "<style>pre { white-space: pre !important; }</style>"
      ],
      "text/plain": [
       "<IPython.core.display.HTML object>"
      ]
     },
     "metadata": {},
     "output_type": "display_data"
    }
   ],
   "source": [
    "from IPython.display import display, HTML\n",
    "display(HTML(\"<style>pre { white-space: pre !important; }</style>\"))"
   ]
  },
  {
   "cell_type": "code",
   "execution_count": 4,
   "id": "2196bca5",
   "metadata": {},
   "outputs": [
    {
     "name": "stdout",
     "output_type": "stream",
     "text": [
      "+----------+------+---+-------+--------+-----------+--------------------+-----------+--------------+------------------+--------------+-------------+-------------+--------+\n",
      "|patient_id|sex   |age|country|province|city       |infection_case      |infected_by|contact_number|symptom_onset_date|confirmed_date|released_date|deceased_date|state   |\n",
      "+----------+------+---+-------+--------+-----------+--------------------+-----------+--------------+------------------+--------------+-------------+-------------+--------+\n",
      "|1000000001|male  |50s|Korea  |Seoul   |Gangseo-gu |overseas inflow     |NULL       |75            |2020-01-22        |2020-01-23    |2020-02-05   |NULL         |released|\n",
      "|1000000002|male  |30s|Korea  |Seoul   |Jungnang-gu|overseas inflow     |NULL       |31            |NULL              |2020-01-30    |2020-03-02   |NULL         |released|\n",
      "|1000000003|male  |50s|Korea  |Seoul   |Jongno-gu  |contact with patient|2002000001 |17            |NULL              |2020-01-30    |2020-02-19   |NULL         |released|\n",
      "|1000000004|male  |20s|Korea  |Seoul   |Mapo-gu    |overseas inflow     |NULL       |9             |2020-01-26        |2020-01-30    |2020-02-15   |NULL         |released|\n",
      "|1000000005|female|20s|Korea  |Seoul   |Seongbuk-gu|contact with patient|1000000002 |2             |NULL              |2020-01-31    |2020-02-24   |NULL         |released|\n",
      "+----------+------+---+-------+--------+-----------+--------------------+-----------+--------------+------------------+--------------+-------------+-------------+--------+\n",
      "only showing top 5 rows\n",
      "\n"
     ]
    }
   ],
   "source": [
    "df = spark.read.csv('PatientInfo.csv',inferSchema=True,header=True)\n",
    "df.show(5,truncate=False)"
   ]
  },
  {
   "cell_type": "code",
   "execution_count": 5,
   "id": "e7f0c026",
   "metadata": {},
   "outputs": [
    {
     "data": {
      "text/plain": [
       "DataFrame[patient_id: bigint, sex: string, age: string, country: string, province: string, city: string, infection_case: string, infected_by: string, contact_number: string, symptom_onset_date: string, confirmed_date: date, released_date: date, deceased_date: date, state: string]"
      ]
     },
     "execution_count": 5,
     "metadata": {},
     "output_type": "execute_result"
    }
   ],
   "source": [
    "df.cache()"
   ]
  },
  {
   "cell_type": "markdown",
   "id": "4d43bdca",
   "metadata": {},
   "source": [
    "### Display the schema of the dataset"
   ]
  },
  {
   "cell_type": "code",
   "execution_count": 6,
   "id": "c51a2507",
   "metadata": {},
   "outputs": [
    {
     "name": "stdout",
     "output_type": "stream",
     "text": [
      "root\n",
      " |-- patient_id: long (nullable = true)\n",
      " |-- sex: string (nullable = true)\n",
      " |-- age: string (nullable = true)\n",
      " |-- country: string (nullable = true)\n",
      " |-- province: string (nullable = true)\n",
      " |-- city: string (nullable = true)\n",
      " |-- infection_case: string (nullable = true)\n",
      " |-- infected_by: string (nullable = true)\n",
      " |-- contact_number: string (nullable = true)\n",
      " |-- symptom_onset_date: string (nullable = true)\n",
      " |-- confirmed_date: date (nullable = true)\n",
      " |-- released_date: date (nullable = true)\n",
      " |-- deceased_date: date (nullable = true)\n",
      " |-- state: string (nullable = true)\n",
      "\n"
     ]
    }
   ],
   "source": [
    "df.printSchema()"
   ]
  },
  {
   "cell_type": "markdown",
   "id": "3114e1dd",
   "metadata": {},
   "source": [
    "### Display the statistical summary"
   ]
  },
  {
   "cell_type": "code",
   "execution_count": 7,
   "id": "18d63947",
   "metadata": {},
   "outputs": [
    {
     "name": "stderr",
     "output_type": "stream",
     "text": [
      "23/10/05 14:53:19 WARN SparkStringUtils: Truncated the string representation of a plan since it was too large. This behavior can be adjusted by setting 'spark.sql.debug.maxToStringFields'.\n",
      "[Stage 6:>                                                          (0 + 1) / 1]\r"
     ]
    },
    {
     "name": "stdout",
     "output_type": "stream",
     "text": [
      "+-------+--------------------+------+----+----------+--------+--------------+--------------------------+--------------------+--------------------+------------------+--------+\n",
      "|summary|patient_id          |sex   |age |country   |province|city          |infection_case            |infected_by         |contact_number      |symptom_onset_date|state   |\n",
      "+-------+--------------------+------+----+----------+--------+--------------+--------------------------+--------------------+--------------------+------------------+--------+\n",
      "|count  |5165                |4043  |3785|5165      |5165    |5071          |4246                      |1346                |791                 |690               |5165    |\n",
      "|mean   |2.8636345618679576E9|NULL  |NULL|NULL      |NULL    |NULL          |NULL                      |2.2845944015643125E9|1.6772572523506988E7|NULL              |NULL    |\n",
      "|stddev |2.074210725277473E9 |NULL  |NULL|NULL      |NULL    |NULL          |NULL                      |1.5265072953383324E9|3.093097580985502E8 |NULL              |NULL    |\n",
      "|min    |1000000001          |female|0s  |Bangladesh|Busan   |Andong-si     |Anyang Gunpo Pastors Group|1000000002          |-                   |                  |deceased|\n",
      "|max    |7000000019          |male  |90s |Vietnam   |Ulsan   |sankyeock-dong|overseas inflow           |7000000009          |95                  |2020-06-28        |released|\n",
      "+-------+--------------------+------+----+----------+--------+--------------+--------------------------+--------------------+--------------------+------------------+--------+\n",
      "\n"
     ]
    },
    {
     "name": "stderr",
     "output_type": "stream",
     "text": [
      "\r",
      "                                                                                \r"
     ]
    }
   ],
   "source": [
    "# It's not an optimal scenario as it will be so hard for spark core engine to calculate all of these operations\n",
    "df_sumary = df.describe()\n",
    "df_sumary.show(truncate=False)"
   ]
  },
  {
   "cell_type": "code",
   "execution_count": 8,
   "id": "bd10f79c",
   "metadata": {},
   "outputs": [
    {
     "name": "stdout",
     "output_type": "stream",
     "text": [
      "+-------+--------------------+------+----+----------+\n",
      "|summary|patient_id          |sex   |age |country   |\n",
      "+-------+--------------------+------+----+----------+\n",
      "|count  |5165                |4043  |3785|5165      |\n",
      "|mean   |2.8636345618679576E9|NULL  |NULL|NULL      |\n",
      "|stddev |2.074210725277473E9 |NULL  |NULL|NULL      |\n",
      "|min    |1000000001          |female|0s  |Bangladesh|\n",
      "|max    |7000000019          |male  |90s |Vietnam   |\n",
      "+-------+--------------------+------+----+----------+\n",
      "\n"
     ]
    }
   ],
   "source": [
    "# Maybe it will be a fine solution as required\n",
    "df_sumary = df.select('patient_id','sex','age','country').describe()\n",
    "df_sumary.show(truncate=False)"
   ]
  },
  {
   "cell_type": "markdown",
   "id": "c78859b9",
   "metadata": {},
   "source": [
    "### Using the state column.\n",
    "### How many people survived (released), and how many didn't survive (isolated/deceased)?"
   ]
  },
  {
   "cell_type": "code",
   "execution_count": 9,
   "id": "e643fbf3",
   "metadata": {},
   "outputs": [],
   "source": [
    "from pyspark.sql.functions import *\n",
    "import pyspark.sql.functions as F\n",
    "from pyspark.sql.types import *"
   ]
  },
  {
   "cell_type": "code",
   "execution_count": 10,
   "id": "f75accf7",
   "metadata": {},
   "outputs": [
    {
     "name": "stderr",
     "output_type": "stream",
     "text": [
      "23/10/05 14:53:26 WARN GarbageCollectionMetrics: To enable non-built-in garbage collector(s) List(G1 Concurrent GC), users should configure it(them) to spark.eventLog.gcMetrics.youngGenerationGarbageCollectors or spark.eventLog.gcMetrics.oldGenerationGarbageCollectors\n",
      "                                                                                \r"
     ]
    },
    {
     "name": "stdout",
     "output_type": "stream",
     "text": [
      "+--------+-----+\n",
      "|  status|count|\n",
      "+--------+-----+\n",
      "|survived| 2929|\n",
      "|    dead| 2236|\n",
      "+--------+-----+\n",
      "\n"
     ]
    }
   ],
   "source": [
    "_srv = df.filter(col('state')=='released').count()\n",
    "_dead = df.filter((col('state')=='isolated') | (col('state')=='deceased')).count()\n",
    "data = {\n",
    "    \"survived\": _srv,\n",
    "    \"dead\": _dead\n",
    "}\n",
    "df_people_srv = spark.createDataFrame(list(data.items()), [\"status\", \"count\"])\n",
    "df_people_srv.show()"
   ]
  },
  {
   "cell_type": "code",
   "execution_count": 11,
   "id": "63e84045",
   "metadata": {},
   "outputs": [],
   "source": [
    "# df_people_srv = df.groupBy('state').agg(F.count(col('patient_id')).alias('count'))\n",
    "# df_people_srv.show(truncate=False)"
   ]
  },
  {
   "cell_type": "markdown",
   "id": "59c16346",
   "metadata": {},
   "source": [
    "### Display the number of null values in each column"
   ]
  },
  {
   "cell_type": "code",
   "execution_count": 12,
   "id": "4adc0ab6",
   "metadata": {
    "scrolled": true
   },
   "outputs": [
    {
     "name": "stdout",
     "output_type": "stream",
     "text": [
      "+----------+----+----+-------+--------+----+--------------+-----------+--------------+------------------+--------------+-------------+-------------+-----+\n",
      "|patient_id|sex |age |country|province|city|infection_case|infected_by|contact_number|symptom_onset_date|confirmed_date|released_date|deceased_date|state|\n",
      "+----------+----+----+-------+--------+----+--------------+-----------+--------------+------------------+--------------+-------------+-------------+-----+\n",
      "|0         |1122|1380|0      |0       |94  |919           |3819       |4374          |4475              |3             |3578         |5099         |0    |\n",
      "+----------+----+----+-------+--------+----+--------------+-----------+--------------+------------------+--------------+-------------+-------------+-----+\n",
      "\n"
     ]
    }
   ],
   "source": [
    "\"\"\"\n",
    "For each column, we use col(column).isNull().cast(\"int\") to create a new column of integers where 1 represents \n",
    "a null value and 0 represents a non-null value. We then use sum to calculate the sum of these integers\n",
    "\"\"\"\n",
    "nulls = df.groupBy().agg(*[sum(col(column).isNull().cast(\"int\")).alias(column) for column in df.columns])\n",
    "nulls.show(truncate=False)"
   ]
  },
  {
   "cell_type": "markdown",
   "id": "c3133f5a",
   "metadata": {},
   "source": [
    "## Data preprocessing"
   ]
  },
  {
   "cell_type": "markdown",
   "id": "ec32fa0c",
   "metadata": {},
   "source": [
    "### Fill the nulls in the deceased_date with the released_date. \n",
    "- You can use <b>coalesce</b> function"
   ]
  },
  {
   "cell_type": "code",
   "execution_count": 13,
   "id": "d5ba64f9",
   "metadata": {},
   "outputs": [
    {
     "name": "stdout",
     "output_type": "stream",
     "text": [
      "+-------------+-------------+\n",
      "|released_date|deceased_date|\n",
      "+-------------+-------------+\n",
      "|2020-02-05   |2020-02-05   |\n",
      "|2020-03-02   |2020-03-02   |\n",
      "|2020-02-19   |2020-02-19   |\n",
      "|2020-02-15   |2020-02-15   |\n",
      "|2020-02-24   |2020-02-24   |\n",
      "|2020-02-19   |2020-02-19   |\n",
      "|2020-02-10   |2020-02-10   |\n",
      "|2020-02-24   |2020-02-24   |\n",
      "|2020-02-21   |2020-02-21   |\n",
      "|2020-02-29   |2020-02-29   |\n",
      "|2020-02-29   |2020-02-29   |\n",
      "|2020-02-27   |2020-02-27   |\n",
      "|NULL         |NULL         |\n",
      "|2020-03-12   |2020-03-12   |\n",
      "|NULL         |NULL         |\n",
      "|2020-03-11   |2020-03-11   |\n",
      "|2020-03-01   |2020-03-01   |\n",
      "|NULL         |NULL         |\n",
      "|2020-03-08   |2020-03-08   |\n",
      "|NULL         |NULL         |\n",
      "+-------------+-------------+\n",
      "only showing top 20 rows\n",
      "\n"
     ]
    }
   ],
   "source": [
    "df_without_na = df.withColumn(\"deceased_date\", coalesce(col('deceased_date'),col('released_date')))\n",
    "df_without_na.select('released_date','deceased_date').show(truncate=False)"
   ]
  },
  {
   "cell_type": "markdown",
   "id": "4ec324f5",
   "metadata": {},
   "source": [
    "### Add a column named no_days which is difference between the deceased_date and the confirmed_date then show the top 5 rows. Print the schema.\n",
    "- <b> Hint: You need to typecast these columns as date first <b>"
   ]
  },
  {
   "cell_type": "code",
   "execution_count": 14,
   "id": "a908bcbc",
   "metadata": {},
   "outputs": [
    {
     "name": "stdout",
     "output_type": "stream",
     "text": [
      "root\n",
      " |-- patient_id: long (nullable = true)\n",
      " |-- sex: string (nullable = true)\n",
      " |-- age: string (nullable = true)\n",
      " |-- country: string (nullable = true)\n",
      " |-- province: string (nullable = true)\n",
      " |-- city: string (nullable = true)\n",
      " |-- infection_case: string (nullable = true)\n",
      " |-- infected_by: string (nullable = true)\n",
      " |-- contact_number: string (nullable = true)\n",
      " |-- symptom_onset_date: string (nullable = true)\n",
      " |-- confirmed_date: date (nullable = true)\n",
      " |-- released_date: date (nullable = true)\n",
      " |-- deceased_date: date (nullable = true)\n",
      " |-- state: string (nullable = true)\n",
      " |-- no_days: integer (nullable = true)\n",
      "\n",
      "+----------+------+---+-------+--------+-----------+--------------------+-----------+--------------+------------------+--------------+-------------+-------------+--------+-------+\n",
      "|patient_id|   sex|age|country|province|       city|      infection_case|infected_by|contact_number|symptom_onset_date|confirmed_date|released_date|deceased_date|   state|no_days|\n",
      "+----------+------+---+-------+--------+-----------+--------------------+-----------+--------------+------------------+--------------+-------------+-------------+--------+-------+\n",
      "|1000000001|  male|50s|  Korea|   Seoul| Gangseo-gu|     overseas inflow|       NULL|            75|        2020-01-22|    2020-01-23|   2020-02-05|   2020-02-05|released|     13|\n",
      "|1000000002|  male|30s|  Korea|   Seoul|Jungnang-gu|     overseas inflow|       NULL|            31|              NULL|    2020-01-30|   2020-03-02|   2020-03-02|released|     32|\n",
      "|1000000003|  male|50s|  Korea|   Seoul|  Jongno-gu|contact with patient| 2002000001|            17|              NULL|    2020-01-30|   2020-02-19|   2020-02-19|released|     20|\n",
      "|1000000004|  male|20s|  Korea|   Seoul|    Mapo-gu|     overseas inflow|       NULL|             9|        2020-01-26|    2020-01-30|   2020-02-15|   2020-02-15|released|     16|\n",
      "|1000000005|female|20s|  Korea|   Seoul|Seongbuk-gu|contact with patient| 1000000002|             2|              NULL|    2020-01-31|   2020-02-24|   2020-02-24|released|     24|\n",
      "+----------+------+---+-------+--------+-----------+--------------------+-----------+--------------+------------------+--------------+-------------+-------------+--------+-------+\n",
      "only showing top 5 rows\n",
      "\n"
     ]
    }
   ],
   "source": [
    "# The secret in this func (datediff) HAHAHHA\n",
    "df_add_nodays = df_without_na.withColumn('no_days', datediff(col('deceased_date'), col('confirmed_date')))\n",
    "df_add_nodays.printSchema()\n",
    "df_add_nodays.show(5)"
   ]
  },
  {
   "cell_type": "markdown",
   "id": "967b2466",
   "metadata": {},
   "source": [
    "### Add a is_male column if male then it should yield true, else then False"
   ]
  },
  {
   "cell_type": "code",
   "execution_count": 15,
   "id": "03083e49",
   "metadata": {},
   "outputs": [
    {
     "name": "stdout",
     "output_type": "stream",
     "text": [
      "+----------+------+---+-------+--------+------------+--------------------+-----------+--------------+------------------+--------------+-------------+-------------+--------+-------+\n",
      "|patient_id|   sex|age|country|province|        city|      infection_case|infected_by|contact_number|symptom_onset_date|confirmed_date|released_date|deceased_date|   state|no_days|\n",
      "+----------+------+---+-------+--------+------------+--------------------+-----------+--------------+------------------+--------------+-------------+-------------+--------+-------+\n",
      "|1000000001|  male|50s|  Korea|   Seoul|  Gangseo-gu|     overseas inflow|       NULL|            75|        2020-01-22|    2020-01-23|   2020-02-05|   2020-02-05|released|     13|\n",
      "|1000000002|  male|30s|  Korea|   Seoul| Jungnang-gu|     overseas inflow|       NULL|            31|              NULL|    2020-01-30|   2020-03-02|   2020-03-02|released|     32|\n",
      "|1000000003|  male|50s|  Korea|   Seoul|   Jongno-gu|contact with patient| 2002000001|            17|              NULL|    2020-01-30|   2020-02-19|   2020-02-19|released|     20|\n",
      "|1000000004|  male|20s|  Korea|   Seoul|     Mapo-gu|     overseas inflow|       NULL|             9|        2020-01-26|    2020-01-30|   2020-02-15|   2020-02-15|released|     16|\n",
      "|1000000005|female|20s|  Korea|   Seoul| Seongbuk-gu|contact with patient| 1000000002|             2|              NULL|    2020-01-31|   2020-02-24|   2020-02-24|released|     24|\n",
      "|1000000006|female|50s|  Korea|   Seoul|   Jongno-gu|contact with patient| 1000000003|            43|              NULL|    2020-01-31|   2020-02-19|   2020-02-19|released|     19|\n",
      "|1000000007|  male|20s|  Korea|   Seoul|   Jongno-gu|contact with patient| 1000000003|             0|              NULL|    2020-01-31|   2020-02-10|   2020-02-10|released|     10|\n",
      "|1000000008|  male|20s|  Korea|   Seoul|         etc|     overseas inflow|       NULL|             0|              NULL|    2020-02-02|   2020-02-24|   2020-02-24|released|     22|\n",
      "|1000000009|  male|30s|  Korea|   Seoul|   Songpa-gu|     overseas inflow|       NULL|            68|              NULL|    2020-02-05|   2020-02-21|   2020-02-21|released|     16|\n",
      "|1000000010|female|60s|  Korea|   Seoul| Seongbuk-gu|contact with patient| 1000000003|             6|              NULL|    2020-02-05|   2020-02-29|   2020-02-29|released|     24|\n",
      "|1000000011|female|50s|  China|   Seoul|Seodaemun-gu|     overseas inflow|       NULL|            23|              NULL|    2020-02-06|   2020-02-29|   2020-02-29|released|     23|\n",
      "|1000000012|  male|20s|  Korea|   Seoul|         etc|     overseas inflow|       NULL|             0|              NULL|    2020-02-07|   2020-02-27|   2020-02-27|released|     20|\n",
      "|1000000013|  male|80s|  Korea|   Seoul|   Jongno-gu|contact with patient| 1000000017|           117|              NULL|    2020-02-16|         NULL|         NULL|deceased|   NULL|\n",
      "|1000000014|female|60s|  Korea|   Seoul|   Jongno-gu|contact with patient| 1000000013|            27|        2020-02-06|    2020-02-16|   2020-03-12|   2020-03-12|released|     25|\n",
      "|1000000015|  male|70s|  Korea|   Seoul|Seongdong-gu|    Seongdong-gu APT|       NULL|             8|        2020-02-11|    2020-02-19|         NULL|         NULL|released|   NULL|\n",
      "|1000000016|  male|70s|  Korea|   Seoul|   Jongno-gu|contact with patient| 1000000017|          NULL|              NULL|    2020-02-19|   2020-03-11|   2020-03-11|released|     21|\n",
      "|1000000017|  male|70s|  Korea|   Seoul|   Jongno-gu|contact with patient| 1000000003|          NULL|              NULL|    2020-02-20|   2020-03-01|   2020-03-01|released|     10|\n",
      "|1000000018|  male|20s|  Korea|   Seoul|         etc|                 etc|       NULL|          NULL|              NULL|    2020-02-20|         NULL|         NULL|released|   NULL|\n",
      "|1000000019|female|70s|  Korea|   Seoul|   Jongno-gu|contact with patient| 1000000021|          NULL|              NULL|    2020-02-20|   2020-03-08|   2020-03-08|released|     17|\n",
      "|1000000020|female|70s|  Korea|   Seoul|Seongdong-gu|    Seongdong-gu APT| 1000000015|          NULL|              NULL|    2020-02-20|         NULL|         NULL|released|   NULL|\n",
      "+----------+------+---+-------+--------+------------+--------------------+-----------+--------------+------------------+--------------+-------------+-------------+--------+-------+\n",
      "only showing top 20 rows\n",
      "\n"
     ]
    }
   ],
   "source": [
    "df_no_sex_null = df_add_nodays.dropna(subset=['sex'])\n",
    "df_no_sex_null.show()"
   ]
  },
  {
   "cell_type": "code",
   "execution_count": 16,
   "id": "8efe03b5",
   "metadata": {},
   "outputs": [
    {
     "name": "stdout",
     "output_type": "stream",
     "text": [
      "+----------+------+---+-------+--------+------------+--------------------+-----------+--------------+------------------+--------------+-------------+-------------+--------+-------+-------+\n",
      "|patient_id|sex   |age|country|province|city        |infection_case      |infected_by|contact_number|symptom_onset_date|confirmed_date|released_date|deceased_date|state   |no_days|is_male|\n",
      "+----------+------+---+-------+--------+------------+--------------------+-----------+--------------+------------------+--------------+-------------+-------------+--------+-------+-------+\n",
      "|1000000001|male  |50s|Korea  |Seoul   |Gangseo-gu  |overseas inflow     |NULL       |75            |2020-01-22        |2020-01-23    |2020-02-05   |2020-02-05   |released|13     |true   |\n",
      "|1000000002|male  |30s|Korea  |Seoul   |Jungnang-gu |overseas inflow     |NULL       |31            |NULL              |2020-01-30    |2020-03-02   |2020-03-02   |released|32     |true   |\n",
      "|1000000003|male  |50s|Korea  |Seoul   |Jongno-gu   |contact with patient|2002000001 |17            |NULL              |2020-01-30    |2020-02-19   |2020-02-19   |released|20     |true   |\n",
      "|1000000004|male  |20s|Korea  |Seoul   |Mapo-gu     |overseas inflow     |NULL       |9             |2020-01-26        |2020-01-30    |2020-02-15   |2020-02-15   |released|16     |true   |\n",
      "|1000000005|female|20s|Korea  |Seoul   |Seongbuk-gu |contact with patient|1000000002 |2             |NULL              |2020-01-31    |2020-02-24   |2020-02-24   |released|24     |false  |\n",
      "|1000000006|female|50s|Korea  |Seoul   |Jongno-gu   |contact with patient|1000000003 |43            |NULL              |2020-01-31    |2020-02-19   |2020-02-19   |released|19     |false  |\n",
      "|1000000007|male  |20s|Korea  |Seoul   |Jongno-gu   |contact with patient|1000000003 |0             |NULL              |2020-01-31    |2020-02-10   |2020-02-10   |released|10     |true   |\n",
      "|1000000008|male  |20s|Korea  |Seoul   |etc         |overseas inflow     |NULL       |0             |NULL              |2020-02-02    |2020-02-24   |2020-02-24   |released|22     |true   |\n",
      "|1000000009|male  |30s|Korea  |Seoul   |Songpa-gu   |overseas inflow     |NULL       |68            |NULL              |2020-02-05    |2020-02-21   |2020-02-21   |released|16     |true   |\n",
      "|1000000010|female|60s|Korea  |Seoul   |Seongbuk-gu |contact with patient|1000000003 |6             |NULL              |2020-02-05    |2020-02-29   |2020-02-29   |released|24     |false  |\n",
      "|1000000011|female|50s|China  |Seoul   |Seodaemun-gu|overseas inflow     |NULL       |23            |NULL              |2020-02-06    |2020-02-29   |2020-02-29   |released|23     |false  |\n",
      "|1000000012|male  |20s|Korea  |Seoul   |etc         |overseas inflow     |NULL       |0             |NULL              |2020-02-07    |2020-02-27   |2020-02-27   |released|20     |true   |\n",
      "|1000000013|male  |80s|Korea  |Seoul   |Jongno-gu   |contact with patient|1000000017 |117           |NULL              |2020-02-16    |NULL         |NULL         |deceased|NULL   |true   |\n",
      "|1000000014|female|60s|Korea  |Seoul   |Jongno-gu   |contact with patient|1000000013 |27            |2020-02-06        |2020-02-16    |2020-03-12   |2020-03-12   |released|25     |false  |\n",
      "|1000000015|male  |70s|Korea  |Seoul   |Seongdong-gu|Seongdong-gu APT    |NULL       |8             |2020-02-11        |2020-02-19    |NULL         |NULL         |released|NULL   |true   |\n",
      "|1000000016|male  |70s|Korea  |Seoul   |Jongno-gu   |contact with patient|1000000017 |NULL          |NULL              |2020-02-19    |2020-03-11   |2020-03-11   |released|21     |true   |\n",
      "|1000000017|male  |70s|Korea  |Seoul   |Jongno-gu   |contact with patient|1000000003 |NULL          |NULL              |2020-02-20    |2020-03-01   |2020-03-01   |released|10     |true   |\n",
      "|1000000018|male  |20s|Korea  |Seoul   |etc         |etc                 |NULL       |NULL          |NULL              |2020-02-20    |NULL         |NULL         |released|NULL   |true   |\n",
      "|1000000019|female|70s|Korea  |Seoul   |Jongno-gu   |contact with patient|1000000021 |NULL          |NULL              |2020-02-20    |2020-03-08   |2020-03-08   |released|17     |false  |\n",
      "|1000000020|female|70s|Korea  |Seoul   |Seongdong-gu|Seongdong-gu APT    |1000000015 |NULL          |NULL              |2020-02-20    |NULL         |NULL         |released|NULL   |false  |\n",
      "+----------+------+---+-------+--------+------------+--------------------+-----------+--------------+------------------+--------------+-------------+-------------+--------+-------+-------+\n",
      "only showing top 20 rows\n",
      "\n"
     ]
    }
   ],
   "source": [
    "df_add_is_male = df_no_sex_null.withColumn('is_male',col('sex') =='male')\n",
    "df_add_is_male.show(20,truncate=False)"
   ]
  },
  {
   "cell_type": "code",
   "execution_count": 17,
   "id": "26929ea8",
   "metadata": {},
   "outputs": [
    {
     "data": {
      "text/plain": [
       "DataFrame[patient_id: bigint, sex: string, age: string, country: string, province: string, city: string, infection_case: string, infected_by: string, contact_number: string, symptom_onset_date: string, confirmed_date: date, released_date: date, deceased_date: date, state: string, no_days: int, is_male: boolean]"
      ]
     },
     "execution_count": 17,
     "metadata": {},
     "output_type": "execute_result"
    }
   ],
   "source": [
    "# to fast operation\n",
    "df_add_is_male.cache()"
   ]
  },
  {
   "cell_type": "markdown",
   "id": "8603d7c0",
   "metadata": {},
   "source": [
    "### Add a is_dead column if patient state is not released then it should yield true, else then False\n",
    "\n",
    "- Use <b>UDF</b> to perform this task. \n",
    "- However, UDF is not recommended there is no built in function can do the required operation.\n",
    "- UDF is slower than built in functions."
   ]
  },
  {
   "cell_type": "code",
   "execution_count": 18,
   "id": "30bfe84d",
   "metadata": {},
   "outputs": [],
   "source": [
    "def isdeadUDF(txt):\n",
    "    if txt != 'released':\n",
    "        return True\n",
    "    else:\n",
    "        return False\n",
    "    \n",
    "udf_converted_func = udf(isdeadUDF,BooleanType())"
   ]
  },
  {
   "cell_type": "code",
   "execution_count": 19,
   "id": "d3343075",
   "metadata": {},
   "outputs": [
    {
     "name": "stderr",
     "output_type": "stream",
     "text": [
      "\r",
      "[Stage 27:>                                                         (0 + 1) / 1]\r"
     ]
    },
    {
     "name": "stdout",
     "output_type": "stream",
     "text": [
      "+----------+------+---+-------+--------+------------+--------------------+-----------+--------------+------------------+--------------+-------------+-------------+--------+-------+-------+-------+\n",
      "|patient_id|sex   |age|country|province|city        |infection_case      |infected_by|contact_number|symptom_onset_date|confirmed_date|released_date|deceased_date|state   |no_days|is_male|is_dead|\n",
      "+----------+------+---+-------+--------+------------+--------------------+-----------+--------------+------------------+--------------+-------------+-------------+--------+-------+-------+-------+\n",
      "|1000000001|male  |50s|Korea  |Seoul   |Gangseo-gu  |overseas inflow     |NULL       |75            |2020-01-22        |2020-01-23    |2020-02-05   |2020-02-05   |released|13     |true   |false  |\n",
      "|1000000002|male  |30s|Korea  |Seoul   |Jungnang-gu |overseas inflow     |NULL       |31            |NULL              |2020-01-30    |2020-03-02   |2020-03-02   |released|32     |true   |false  |\n",
      "|1000000003|male  |50s|Korea  |Seoul   |Jongno-gu   |contact with patient|2002000001 |17            |NULL              |2020-01-30    |2020-02-19   |2020-02-19   |released|20     |true   |false  |\n",
      "|1000000004|male  |20s|Korea  |Seoul   |Mapo-gu     |overseas inflow     |NULL       |9             |2020-01-26        |2020-01-30    |2020-02-15   |2020-02-15   |released|16     |true   |false  |\n",
      "|1000000005|female|20s|Korea  |Seoul   |Seongbuk-gu |contact with patient|1000000002 |2             |NULL              |2020-01-31    |2020-02-24   |2020-02-24   |released|24     |false  |false  |\n",
      "|1000000006|female|50s|Korea  |Seoul   |Jongno-gu   |contact with patient|1000000003 |43            |NULL              |2020-01-31    |2020-02-19   |2020-02-19   |released|19     |false  |false  |\n",
      "|1000000007|male  |20s|Korea  |Seoul   |Jongno-gu   |contact with patient|1000000003 |0             |NULL              |2020-01-31    |2020-02-10   |2020-02-10   |released|10     |true   |false  |\n",
      "|1000000008|male  |20s|Korea  |Seoul   |etc         |overseas inflow     |NULL       |0             |NULL              |2020-02-02    |2020-02-24   |2020-02-24   |released|22     |true   |false  |\n",
      "|1000000009|male  |30s|Korea  |Seoul   |Songpa-gu   |overseas inflow     |NULL       |68            |NULL              |2020-02-05    |2020-02-21   |2020-02-21   |released|16     |true   |false  |\n",
      "|1000000010|female|60s|Korea  |Seoul   |Seongbuk-gu |contact with patient|1000000003 |6             |NULL              |2020-02-05    |2020-02-29   |2020-02-29   |released|24     |false  |false  |\n",
      "|1000000011|female|50s|China  |Seoul   |Seodaemun-gu|overseas inflow     |NULL       |23            |NULL              |2020-02-06    |2020-02-29   |2020-02-29   |released|23     |false  |false  |\n",
      "|1000000012|male  |20s|Korea  |Seoul   |etc         |overseas inflow     |NULL       |0             |NULL              |2020-02-07    |2020-02-27   |2020-02-27   |released|20     |true   |false  |\n",
      "|1000000013|male  |80s|Korea  |Seoul   |Jongno-gu   |contact with patient|1000000017 |117           |NULL              |2020-02-16    |NULL         |NULL         |deceased|NULL   |true   |true   |\n",
      "|1000000014|female|60s|Korea  |Seoul   |Jongno-gu   |contact with patient|1000000013 |27            |2020-02-06        |2020-02-16    |2020-03-12   |2020-03-12   |released|25     |false  |false  |\n",
      "|1000000015|male  |70s|Korea  |Seoul   |Seongdong-gu|Seongdong-gu APT    |NULL       |8             |2020-02-11        |2020-02-19    |NULL         |NULL         |released|NULL   |true   |false  |\n",
      "|1000000016|male  |70s|Korea  |Seoul   |Jongno-gu   |contact with patient|1000000017 |NULL          |NULL              |2020-02-19    |2020-03-11   |2020-03-11   |released|21     |true   |false  |\n",
      "|1000000017|male  |70s|Korea  |Seoul   |Jongno-gu   |contact with patient|1000000003 |NULL          |NULL              |2020-02-20    |2020-03-01   |2020-03-01   |released|10     |true   |false  |\n",
      "|1000000018|male  |20s|Korea  |Seoul   |etc         |etc                 |NULL       |NULL          |NULL              |2020-02-20    |NULL         |NULL         |released|NULL   |true   |false  |\n",
      "|1000000019|female|70s|Korea  |Seoul   |Jongno-gu   |contact with patient|1000000021 |NULL          |NULL              |2020-02-20    |2020-03-08   |2020-03-08   |released|17     |false  |false  |\n",
      "|1000000020|female|70s|Korea  |Seoul   |Seongdong-gu|Seongdong-gu APT    |1000000015 |NULL          |NULL              |2020-02-20    |NULL         |NULL         |released|NULL   |false  |false  |\n",
      "+----------+------+---+-------+--------+------------+--------------------+-----------+--------------+------------------+--------------+-------------+-------------+--------+-------+-------+-------+\n",
      "only showing top 20 rows\n",
      "\n"
     ]
    },
    {
     "name": "stderr",
     "output_type": "stream",
     "text": [
      "\r",
      "                                                                                \r"
     ]
    }
   ],
   "source": [
    "df_add_is_dead = df_add_is_male.withColumn('is_dead' , udf_converted_func(col('state')))\n",
    "df_add_is_dead.show(truncate=False)"
   ]
  },
  {
   "cell_type": "code",
   "execution_count": 20,
   "id": "b4475928",
   "metadata": {},
   "outputs": [
    {
     "name": "stdout",
     "output_type": "stream",
     "text": [
      "+----------+------+---+-------+--------+------------+--------------------+-----------+--------------+------------------+--------------+-------------+-------------+--------+-------+-------+-------+\n",
      "|patient_id|sex   |age|country|province|city        |infection_case      |infected_by|contact_number|symptom_onset_date|confirmed_date|released_date|deceased_date|state   |no_days|is_male|is_dead|\n",
      "+----------+------+---+-------+--------+------------+--------------------+-----------+--------------+------------------+--------------+-------------+-------------+--------+-------+-------+-------+\n",
      "|1000000001|male  |50s|Korea  |Seoul   |Gangseo-gu  |overseas inflow     |NULL       |75            |2020-01-22        |2020-01-23    |2020-02-05   |2020-02-05   |released|13     |true   |false  |\n",
      "|1000000002|male  |30s|Korea  |Seoul   |Jungnang-gu |overseas inflow     |NULL       |31            |NULL              |2020-01-30    |2020-03-02   |2020-03-02   |released|32     |true   |false  |\n",
      "|1000000003|male  |50s|Korea  |Seoul   |Jongno-gu   |contact with patient|2002000001 |17            |NULL              |2020-01-30    |2020-02-19   |2020-02-19   |released|20     |true   |false  |\n",
      "|1000000004|male  |20s|Korea  |Seoul   |Mapo-gu     |overseas inflow     |NULL       |9             |2020-01-26        |2020-01-30    |2020-02-15   |2020-02-15   |released|16     |true   |false  |\n",
      "|1000000005|female|20s|Korea  |Seoul   |Seongbuk-gu |contact with patient|1000000002 |2             |NULL              |2020-01-31    |2020-02-24   |2020-02-24   |released|24     |false  |false  |\n",
      "|1000000006|female|50s|Korea  |Seoul   |Jongno-gu   |contact with patient|1000000003 |43            |NULL              |2020-01-31    |2020-02-19   |2020-02-19   |released|19     |false  |false  |\n",
      "|1000000007|male  |20s|Korea  |Seoul   |Jongno-gu   |contact with patient|1000000003 |0             |NULL              |2020-01-31    |2020-02-10   |2020-02-10   |released|10     |true   |false  |\n",
      "|1000000008|male  |20s|Korea  |Seoul   |etc         |overseas inflow     |NULL       |0             |NULL              |2020-02-02    |2020-02-24   |2020-02-24   |released|22     |true   |false  |\n",
      "|1000000009|male  |30s|Korea  |Seoul   |Songpa-gu   |overseas inflow     |NULL       |68            |NULL              |2020-02-05    |2020-02-21   |2020-02-21   |released|16     |true   |false  |\n",
      "|1000000010|female|60s|Korea  |Seoul   |Seongbuk-gu |contact with patient|1000000003 |6             |NULL              |2020-02-05    |2020-02-29   |2020-02-29   |released|24     |false  |false  |\n",
      "|1000000011|female|50s|China  |Seoul   |Seodaemun-gu|overseas inflow     |NULL       |23            |NULL              |2020-02-06    |2020-02-29   |2020-02-29   |released|23     |false  |false  |\n",
      "|1000000012|male  |20s|Korea  |Seoul   |etc         |overseas inflow     |NULL       |0             |NULL              |2020-02-07    |2020-02-27   |2020-02-27   |released|20     |true   |false  |\n",
      "|1000000013|male  |80s|Korea  |Seoul   |Jongno-gu   |contact with patient|1000000017 |117           |NULL              |2020-02-16    |NULL         |NULL         |deceased|NULL   |true   |true   |\n",
      "|1000000014|female|60s|Korea  |Seoul   |Jongno-gu   |contact with patient|1000000013 |27            |2020-02-06        |2020-02-16    |2020-03-12   |2020-03-12   |released|25     |false  |false  |\n",
      "|1000000015|male  |70s|Korea  |Seoul   |Seongdong-gu|Seongdong-gu APT    |NULL       |8             |2020-02-11        |2020-02-19    |NULL         |NULL         |released|NULL   |true   |false  |\n",
      "|1000000016|male  |70s|Korea  |Seoul   |Jongno-gu   |contact with patient|1000000017 |NULL          |NULL              |2020-02-19    |2020-03-11   |2020-03-11   |released|21     |true   |false  |\n",
      "|1000000017|male  |70s|Korea  |Seoul   |Jongno-gu   |contact with patient|1000000003 |NULL          |NULL              |2020-02-20    |2020-03-01   |2020-03-01   |released|10     |true   |false  |\n",
      "|1000000018|male  |20s|Korea  |Seoul   |etc         |etc                 |NULL       |NULL          |NULL              |2020-02-20    |NULL         |NULL         |released|NULL   |true   |false  |\n",
      "|1000000019|female|70s|Korea  |Seoul   |Jongno-gu   |contact with patient|1000000021 |NULL          |NULL              |2020-02-20    |2020-03-08   |2020-03-08   |released|17     |false  |false  |\n",
      "|1000000020|female|70s|Korea  |Seoul   |Seongdong-gu|Seongdong-gu APT    |1000000015 |NULL          |NULL              |2020-02-20    |NULL         |NULL         |released|NULL   |false  |false  |\n",
      "+----------+------+---+-------+--------+------------+--------------------+-----------+--------------+------------------+--------------+-------------+-------------+--------+-------+-------+-------+\n",
      "only showing top 20 rows\n",
      "\n"
     ]
    }
   ],
   "source": [
    "# This solution by using pyspark functions\n",
    "df_add_is_dead = df_add_is_male.withColumn('is_dead',col('state')!='released')\n",
    "df_add_is_dead.show(truncate=False)"
   ]
  },
  {
   "cell_type": "markdown",
   "id": "e15264a9",
   "metadata": {},
   "source": [
    "### Change the ages to bins from 10s, 0s, 10s, 20s,.etc to 0,10, 20"
   ]
  },
  {
   "cell_type": "code",
   "execution_count": 21,
   "id": "7a2b57ed",
   "metadata": {},
   "outputs": [
    {
     "name": "stdout",
     "output_type": "stream",
     "text": [
      "+----------+------+---+-------+--------+------------+--------------------+-----------+--------------+------------------+--------------+-------------+-------------+--------+-------+-------+-------+\n",
      "|patient_id|sex   |age|country|province|city        |infection_case      |infected_by|contact_number|symptom_onset_date|confirmed_date|released_date|deceased_date|state   |no_days|is_male|is_dead|\n",
      "+----------+------+---+-------+--------+------------+--------------------+-----------+--------------+------------------+--------------+-------------+-------------+--------+-------+-------+-------+\n",
      "|1000000001|male  |50 |Korea  |Seoul   |Gangseo-gu  |overseas inflow     |NULL       |75            |2020-01-22        |2020-01-23    |2020-02-05   |2020-02-05   |released|13     |true   |false  |\n",
      "|1000000002|male  |30 |Korea  |Seoul   |Jungnang-gu |overseas inflow     |NULL       |31            |NULL              |2020-01-30    |2020-03-02   |2020-03-02   |released|32     |true   |false  |\n",
      "|1000000003|male  |50 |Korea  |Seoul   |Jongno-gu   |contact with patient|2002000001 |17            |NULL              |2020-01-30    |2020-02-19   |2020-02-19   |released|20     |true   |false  |\n",
      "|1000000004|male  |20 |Korea  |Seoul   |Mapo-gu     |overseas inflow     |NULL       |9             |2020-01-26        |2020-01-30    |2020-02-15   |2020-02-15   |released|16     |true   |false  |\n",
      "|1000000005|female|20 |Korea  |Seoul   |Seongbuk-gu |contact with patient|1000000002 |2             |NULL              |2020-01-31    |2020-02-24   |2020-02-24   |released|24     |false  |false  |\n",
      "|1000000006|female|50 |Korea  |Seoul   |Jongno-gu   |contact with patient|1000000003 |43            |NULL              |2020-01-31    |2020-02-19   |2020-02-19   |released|19     |false  |false  |\n",
      "|1000000007|male  |20 |Korea  |Seoul   |Jongno-gu   |contact with patient|1000000003 |0             |NULL              |2020-01-31    |2020-02-10   |2020-02-10   |released|10     |true   |false  |\n",
      "|1000000008|male  |20 |Korea  |Seoul   |etc         |overseas inflow     |NULL       |0             |NULL              |2020-02-02    |2020-02-24   |2020-02-24   |released|22     |true   |false  |\n",
      "|1000000009|male  |30 |Korea  |Seoul   |Songpa-gu   |overseas inflow     |NULL       |68            |NULL              |2020-02-05    |2020-02-21   |2020-02-21   |released|16     |true   |false  |\n",
      "|1000000010|female|60 |Korea  |Seoul   |Seongbuk-gu |contact with patient|1000000003 |6             |NULL              |2020-02-05    |2020-02-29   |2020-02-29   |released|24     |false  |false  |\n",
      "|1000000011|female|50 |China  |Seoul   |Seodaemun-gu|overseas inflow     |NULL       |23            |NULL              |2020-02-06    |2020-02-29   |2020-02-29   |released|23     |false  |false  |\n",
      "|1000000012|male  |20 |Korea  |Seoul   |etc         |overseas inflow     |NULL       |0             |NULL              |2020-02-07    |2020-02-27   |2020-02-27   |released|20     |true   |false  |\n",
      "|1000000013|male  |80 |Korea  |Seoul   |Jongno-gu   |contact with patient|1000000017 |117           |NULL              |2020-02-16    |NULL         |NULL         |deceased|NULL   |true   |true   |\n",
      "|1000000014|female|60 |Korea  |Seoul   |Jongno-gu   |contact with patient|1000000013 |27            |2020-02-06        |2020-02-16    |2020-03-12   |2020-03-12   |released|25     |false  |false  |\n",
      "|1000000015|male  |70 |Korea  |Seoul   |Seongdong-gu|Seongdong-gu APT    |NULL       |8             |2020-02-11        |2020-02-19    |NULL         |NULL         |released|NULL   |true   |false  |\n",
      "|1000000016|male  |70 |Korea  |Seoul   |Jongno-gu   |contact with patient|1000000017 |NULL          |NULL              |2020-02-19    |2020-03-11   |2020-03-11   |released|21     |true   |false  |\n",
      "|1000000017|male  |70 |Korea  |Seoul   |Jongno-gu   |contact with patient|1000000003 |NULL          |NULL              |2020-02-20    |2020-03-01   |2020-03-01   |released|10     |true   |false  |\n",
      "|1000000018|male  |20 |Korea  |Seoul   |etc         |etc                 |NULL       |NULL          |NULL              |2020-02-20    |NULL         |NULL         |released|NULL   |true   |false  |\n",
      "|1000000019|female|70 |Korea  |Seoul   |Jongno-gu   |contact with patient|1000000021 |NULL          |NULL              |2020-02-20    |2020-03-08   |2020-03-08   |released|17     |false  |false  |\n",
      "|1000000020|female|70 |Korea  |Seoul   |Seongdong-gu|Seongdong-gu APT    |1000000015 |NULL          |NULL              |2020-02-20    |NULL         |NULL         |released|NULL   |false  |false  |\n",
      "+----------+------+---+-------+--------+------------+--------------------+-----------+--------------+------------------+--------------+-------------+-------------+--------+-------+-------+-------+\n",
      "only showing top 20 rows\n",
      "\n"
     ]
    }
   ],
   "source": [
    "df_change_age = df_add_is_dead.withColumn('age',split(col('age'), 's')[0])\n",
    "df_change_age.show(truncate=False)"
   ]
  },
  {
   "cell_type": "markdown",
   "id": "43cdf846",
   "metadata": {},
   "source": [
    "### Change age, and no_days  to be typecasted as Double"
   ]
  },
  {
   "cell_type": "code",
   "execution_count": 22,
   "id": "37b36d64",
   "metadata": {},
   "outputs": [
    {
     "name": "stdout",
     "output_type": "stream",
     "text": [
      "+----------+------+----+-------+--------+------------+--------------------+-----------+--------------+------------------+--------------+-------------+-------------+--------+-------+-------+-------+\n",
      "|patient_id|sex   |age |country|province|city        |infection_case      |infected_by|contact_number|symptom_onset_date|confirmed_date|released_date|deceased_date|state   |no_days|is_male|is_dead|\n",
      "+----------+------+----+-------+--------+------------+--------------------+-----------+--------------+------------------+--------------+-------------+-------------+--------+-------+-------+-------+\n",
      "|1000000001|male  |50.0|Korea  |Seoul   |Gangseo-gu  |overseas inflow     |NULL       |75            |2020-01-22        |2020-01-23    |2020-02-05   |2020-02-05   |released|13.0   |true   |false  |\n",
      "|1000000002|male  |30.0|Korea  |Seoul   |Jungnang-gu |overseas inflow     |NULL       |31            |NULL              |2020-01-30    |2020-03-02   |2020-03-02   |released|32.0   |true   |false  |\n",
      "|1000000003|male  |50.0|Korea  |Seoul   |Jongno-gu   |contact with patient|2002000001 |17            |NULL              |2020-01-30    |2020-02-19   |2020-02-19   |released|20.0   |true   |false  |\n",
      "|1000000004|male  |20.0|Korea  |Seoul   |Mapo-gu     |overseas inflow     |NULL       |9             |2020-01-26        |2020-01-30    |2020-02-15   |2020-02-15   |released|16.0   |true   |false  |\n",
      "|1000000005|female|20.0|Korea  |Seoul   |Seongbuk-gu |contact with patient|1000000002 |2             |NULL              |2020-01-31    |2020-02-24   |2020-02-24   |released|24.0   |false  |false  |\n",
      "|1000000006|female|50.0|Korea  |Seoul   |Jongno-gu   |contact with patient|1000000003 |43            |NULL              |2020-01-31    |2020-02-19   |2020-02-19   |released|19.0   |false  |false  |\n",
      "|1000000007|male  |20.0|Korea  |Seoul   |Jongno-gu   |contact with patient|1000000003 |0             |NULL              |2020-01-31    |2020-02-10   |2020-02-10   |released|10.0   |true   |false  |\n",
      "|1000000008|male  |20.0|Korea  |Seoul   |etc         |overseas inflow     |NULL       |0             |NULL              |2020-02-02    |2020-02-24   |2020-02-24   |released|22.0   |true   |false  |\n",
      "|1000000009|male  |30.0|Korea  |Seoul   |Songpa-gu   |overseas inflow     |NULL       |68            |NULL              |2020-02-05    |2020-02-21   |2020-02-21   |released|16.0   |true   |false  |\n",
      "|1000000010|female|60.0|Korea  |Seoul   |Seongbuk-gu |contact with patient|1000000003 |6             |NULL              |2020-02-05    |2020-02-29   |2020-02-29   |released|24.0   |false  |false  |\n",
      "|1000000011|female|50.0|China  |Seoul   |Seodaemun-gu|overseas inflow     |NULL       |23            |NULL              |2020-02-06    |2020-02-29   |2020-02-29   |released|23.0   |false  |false  |\n",
      "|1000000012|male  |20.0|Korea  |Seoul   |etc         |overseas inflow     |NULL       |0             |NULL              |2020-02-07    |2020-02-27   |2020-02-27   |released|20.0   |true   |false  |\n",
      "|1000000013|male  |80.0|Korea  |Seoul   |Jongno-gu   |contact with patient|1000000017 |117           |NULL              |2020-02-16    |NULL         |NULL         |deceased|NULL   |true   |true   |\n",
      "|1000000014|female|60.0|Korea  |Seoul   |Jongno-gu   |contact with patient|1000000013 |27            |2020-02-06        |2020-02-16    |2020-03-12   |2020-03-12   |released|25.0   |false  |false  |\n",
      "|1000000015|male  |70.0|Korea  |Seoul   |Seongdong-gu|Seongdong-gu APT    |NULL       |8             |2020-02-11        |2020-02-19    |NULL         |NULL         |released|NULL   |true   |false  |\n",
      "|1000000016|male  |70.0|Korea  |Seoul   |Jongno-gu   |contact with patient|1000000017 |NULL          |NULL              |2020-02-19    |2020-03-11   |2020-03-11   |released|21.0   |true   |false  |\n",
      "|1000000017|male  |70.0|Korea  |Seoul   |Jongno-gu   |contact with patient|1000000003 |NULL          |NULL              |2020-02-20    |2020-03-01   |2020-03-01   |released|10.0   |true   |false  |\n",
      "|1000000018|male  |20.0|Korea  |Seoul   |etc         |etc                 |NULL       |NULL          |NULL              |2020-02-20    |NULL         |NULL         |released|NULL   |true   |false  |\n",
      "|1000000019|female|70.0|Korea  |Seoul   |Jongno-gu   |contact with patient|1000000021 |NULL          |NULL              |2020-02-20    |2020-03-08   |2020-03-08   |released|17.0   |false  |false  |\n",
      "|1000000020|female|70.0|Korea  |Seoul   |Seongdong-gu|Seongdong-gu APT    |1000000015 |NULL          |NULL              |2020-02-20    |NULL         |NULL         |released|NULL   |false  |false  |\n",
      "+----------+------+----+-------+--------+------------+--------------------+-----------+--------------+------------------+--------------+-------------+-------------+--------+-------+-------+-------+\n",
      "only showing top 20 rows\n",
      "\n"
     ]
    }
   ],
   "source": [
    "df_change_age_nodays = df_change_age.withColumn('age',col('age').cast(DoubleType())).withColumn('no_days',col('no_days').cast(DoubleType()))\n",
    "df_change_age_nodays.show(truncate=False)"
   ]
  },
  {
   "cell_type": "markdown",
   "id": "d31e3a87",
   "metadata": {},
   "source": [
    "### Drop the columns\n",
    "[\"patient_id\",\"sex\",\"infected_by\",\"contact_number\",\"released_date\",\"state\",\n",
    "\"symptom_onset_date\",\"confirmed_date\",\"deceased_date\",\"country\",\"no_days\",\n",
    "\"city\",\"infection_case\"]"
   ]
  },
  {
   "cell_type": "code",
   "execution_count": 23,
   "id": "3ae0c428",
   "metadata": {},
   "outputs": [
    {
     "name": "stdout",
     "output_type": "stream",
     "text": [
      "+----+--------+-------+-------+\n",
      "|age |province|is_male|is_dead|\n",
      "+----+--------+-------+-------+\n",
      "|50.0|Seoul   |true   |false  |\n",
      "|30.0|Seoul   |true   |false  |\n",
      "|50.0|Seoul   |true   |false  |\n",
      "|20.0|Seoul   |true   |false  |\n",
      "|20.0|Seoul   |false  |false  |\n",
      "|50.0|Seoul   |false  |false  |\n",
      "|20.0|Seoul   |true   |false  |\n",
      "|20.0|Seoul   |true   |false  |\n",
      "|30.0|Seoul   |true   |false  |\n",
      "|60.0|Seoul   |false  |false  |\n",
      "|50.0|Seoul   |false  |false  |\n",
      "|20.0|Seoul   |true   |false  |\n",
      "|80.0|Seoul   |true   |true   |\n",
      "|60.0|Seoul   |false  |false  |\n",
      "|70.0|Seoul   |true   |false  |\n",
      "|70.0|Seoul   |true   |false  |\n",
      "|70.0|Seoul   |true   |false  |\n",
      "|20.0|Seoul   |true   |false  |\n",
      "|70.0|Seoul   |false  |false  |\n",
      "|70.0|Seoul   |false  |false  |\n",
      "+----+--------+-------+-------+\n",
      "only showing top 20 rows\n",
      "\n"
     ]
    }
   ],
   "source": [
    "df_drop_cols = df_change_age_nodays.drop(\"patient_id\",\"sex\",\"infected_by\",\"contact_number\",\"released_date\",\"state\", \"symptom_onset_date\",\"confirmed_date\",\"deceased_date\",\"country\",\"no_days\", \"city\",\"infection_case\")\n",
    "df_drop_cols.show(truncate=False)"
   ]
  },
  {
   "cell_type": "markdown",
   "id": "32df47a6",
   "metadata": {},
   "source": [
    "### Recount the number of nulls now"
   ]
  },
  {
   "cell_type": "code",
   "execution_count": 25,
   "id": "6d66eaa7",
   "metadata": {},
   "outputs": [
    {
     "name": "stdout",
     "output_type": "stream",
     "text": [
      "+---+--------+-------+-------+\n",
      "|age|province|is_male|is_dead|\n",
      "+---+--------+-------+-------+\n",
      "|261|0       |0      |0      |\n",
      "+---+--------+-------+-------+\n",
      "\n"
     ]
    }
   ],
   "source": [
    "df_no_nulls = df_drop_cols.groupBy().agg(*[sum(col(column).isNull().cast(\"int\")).alias(column) for column in df_drop_cols.columns])\n",
    "df_no_nulls.show(truncate=False)"
   ]
  },
  {
   "cell_type": "code",
   "execution_count": 26,
   "id": "652c2c38",
   "metadata": {},
   "outputs": [
    {
     "data": {
      "text/plain": [
       "261"
      ]
     },
     "execution_count": 26,
     "metadata": {},
     "output_type": "execute_result"
    }
   ],
   "source": [
    "df_drop_cols.filter(col('age').isNull()).count()"
   ]
  },
  {
   "cell_type": "code",
   "execution_count": 27,
   "id": "32fe8566",
   "metadata": {},
   "outputs": [
    {
     "name": "stdout",
     "output_type": "stream",
     "text": [
      "+-------+-----+\n",
      "|is_male|count|\n",
      "+-------+-----+\n",
      "|true   |1825 |\n",
      "|false  |2218 |\n",
      "+-------+-----+\n",
      "\n"
     ]
    }
   ],
   "source": [
    "d = df_drop_cols.groupBy('is_male').count()\n",
    "d.show(truncate=False)"
   ]
  },
  {
   "cell_type": "code",
   "execution_count": 28,
   "id": "fe7d5743",
   "metadata": {},
   "outputs": [
    {
     "data": {
      "text/plain": [
       "261"
      ]
     },
     "execution_count": 28,
     "metadata": {},
     "output_type": "execute_result"
    }
   ],
   "source": [
    "df_drop_cols.filter(col('age').isNull()).count()"
   ]
  },
  {
   "cell_type": "markdown",
   "id": "cc71f158",
   "metadata": {},
   "source": [
    "## Now do the same but using SQL select statement"
   ]
  },
  {
   "cell_type": "markdown",
   "id": "1d540282",
   "metadata": {},
   "source": [
    "### From the original Patient DataFrame, Create a temporary view (table)."
   ]
  },
  {
   "cell_type": "code",
   "execution_count": 29,
   "id": "cf56099f",
   "metadata": {},
   "outputs": [],
   "source": [
    "df.createOrReplaceTempView('my_temp_view')"
   ]
  },
  {
   "cell_type": "markdown",
   "id": "cb004277",
   "metadata": {},
   "source": [
    "### Use SELECT statement to select all columns from the dataframe and show the output."
   ]
  },
  {
   "cell_type": "code",
   "execution_count": 30,
   "id": "12ae8226",
   "metadata": {
    "scrolled": false
   },
   "outputs": [
    {
     "name": "stdout",
     "output_type": "stream",
     "text": [
      "+----------+------+---+-------+--------+------------+--------------------+-----------+--------------+------------------+--------------+-------------+-------------+--------+\n",
      "|patient_id|sex   |age|country|province|city        |infection_case      |infected_by|contact_number|symptom_onset_date|confirmed_date|released_date|deceased_date|state   |\n",
      "+----------+------+---+-------+--------+------------+--------------------+-----------+--------------+------------------+--------------+-------------+-------------+--------+\n",
      "|1000000001|male  |50s|Korea  |Seoul   |Gangseo-gu  |overseas inflow     |NULL       |75            |2020-01-22        |2020-01-23    |2020-02-05   |NULL         |released|\n",
      "|1000000002|male  |30s|Korea  |Seoul   |Jungnang-gu |overseas inflow     |NULL       |31            |NULL              |2020-01-30    |2020-03-02   |NULL         |released|\n",
      "|1000000003|male  |50s|Korea  |Seoul   |Jongno-gu   |contact with patient|2002000001 |17            |NULL              |2020-01-30    |2020-02-19   |NULL         |released|\n",
      "|1000000004|male  |20s|Korea  |Seoul   |Mapo-gu     |overseas inflow     |NULL       |9             |2020-01-26        |2020-01-30    |2020-02-15   |NULL         |released|\n",
      "|1000000005|female|20s|Korea  |Seoul   |Seongbuk-gu |contact with patient|1000000002 |2             |NULL              |2020-01-31    |2020-02-24   |NULL         |released|\n",
      "|1000000006|female|50s|Korea  |Seoul   |Jongno-gu   |contact with patient|1000000003 |43            |NULL              |2020-01-31    |2020-02-19   |NULL         |released|\n",
      "|1000000007|male  |20s|Korea  |Seoul   |Jongno-gu   |contact with patient|1000000003 |0             |NULL              |2020-01-31    |2020-02-10   |NULL         |released|\n",
      "|1000000008|male  |20s|Korea  |Seoul   |etc         |overseas inflow     |NULL       |0             |NULL              |2020-02-02    |2020-02-24   |NULL         |released|\n",
      "|1000000009|male  |30s|Korea  |Seoul   |Songpa-gu   |overseas inflow     |NULL       |68            |NULL              |2020-02-05    |2020-02-21   |NULL         |released|\n",
      "|1000000010|female|60s|Korea  |Seoul   |Seongbuk-gu |contact with patient|1000000003 |6             |NULL              |2020-02-05    |2020-02-29   |NULL         |released|\n",
      "|1000000011|female|50s|China  |Seoul   |Seodaemun-gu|overseas inflow     |NULL       |23            |NULL              |2020-02-06    |2020-02-29   |NULL         |released|\n",
      "|1000000012|male  |20s|Korea  |Seoul   |etc         |overseas inflow     |NULL       |0             |NULL              |2020-02-07    |2020-02-27   |NULL         |released|\n",
      "|1000000013|male  |80s|Korea  |Seoul   |Jongno-gu   |contact with patient|1000000017 |117           |NULL              |2020-02-16    |NULL         |NULL         |deceased|\n",
      "|1000000014|female|60s|Korea  |Seoul   |Jongno-gu   |contact with patient|1000000013 |27            |2020-02-06        |2020-02-16    |2020-03-12   |NULL         |released|\n",
      "|1000000015|male  |70s|Korea  |Seoul   |Seongdong-gu|Seongdong-gu APT    |NULL       |8             |2020-02-11        |2020-02-19    |NULL         |NULL         |released|\n",
      "|1000000016|male  |70s|Korea  |Seoul   |Jongno-gu   |contact with patient|1000000017 |NULL          |NULL              |2020-02-19    |2020-03-11   |NULL         |released|\n",
      "|1000000017|male  |70s|Korea  |Seoul   |Jongno-gu   |contact with patient|1000000003 |NULL          |NULL              |2020-02-20    |2020-03-01   |NULL         |released|\n",
      "|1000000018|male  |20s|Korea  |Seoul   |etc         |etc                 |NULL       |NULL          |NULL              |2020-02-20    |NULL         |NULL         |released|\n",
      "|1000000019|female|70s|Korea  |Seoul   |Jongno-gu   |contact with patient|1000000021 |NULL          |NULL              |2020-02-20    |2020-03-08   |NULL         |released|\n",
      "|1000000020|female|70s|Korea  |Seoul   |Seongdong-gu|Seongdong-gu APT    |1000000015 |NULL          |NULL              |2020-02-20    |NULL         |NULL         |released|\n",
      "+----------+------+---+-------+--------+------------+--------------------+-----------+--------------+------------------+--------------+-------------+-------------+--------+\n",
      "only showing top 20 rows\n",
      "\n"
     ]
    }
   ],
   "source": [
    "spark.sql(\"\"\"\n",
    "        SELECT * \n",
    "        FROM my_temp_view\n",
    "         \"\"\").show(truncate=False)"
   ]
  },
  {
   "cell_type": "markdown",
   "id": "e0da4318",
   "metadata": {},
   "source": [
    "### *Using SQL commands*, limit the output to only 5 rows "
   ]
  },
  {
   "cell_type": "code",
   "execution_count": 31,
   "id": "97911bdd",
   "metadata": {},
   "outputs": [
    {
     "name": "stdout",
     "output_type": "stream",
     "text": [
      "+----------+------+---+-------+--------+-----------+--------------------+-----------+--------------+------------------+--------------+-------------+-------------+--------+\n",
      "|patient_id|sex   |age|country|province|city       |infection_case      |infected_by|contact_number|symptom_onset_date|confirmed_date|released_date|deceased_date|state   |\n",
      "+----------+------+---+-------+--------+-----------+--------------------+-----------+--------------+------------------+--------------+-------------+-------------+--------+\n",
      "|1000000001|male  |50s|Korea  |Seoul   |Gangseo-gu |overseas inflow     |NULL       |75            |2020-01-22        |2020-01-23    |2020-02-05   |NULL         |released|\n",
      "|1000000002|male  |30s|Korea  |Seoul   |Jungnang-gu|overseas inflow     |NULL       |31            |NULL              |2020-01-30    |2020-03-02   |NULL         |released|\n",
      "|1000000003|male  |50s|Korea  |Seoul   |Jongno-gu  |contact with patient|2002000001 |17            |NULL              |2020-01-30    |2020-02-19   |NULL         |released|\n",
      "|1000000004|male  |20s|Korea  |Seoul   |Mapo-gu    |overseas inflow     |NULL       |9             |2020-01-26        |2020-01-30    |2020-02-15   |NULL         |released|\n",
      "|1000000005|female|20s|Korea  |Seoul   |Seongbuk-gu|contact with patient|1000000002 |2             |NULL              |2020-01-31    |2020-02-24   |NULL         |released|\n",
      "+----------+------+---+-------+--------+-----------+--------------------+-----------+--------------+------------------+--------------+-------------+-------------+--------+\n",
      "\n"
     ]
    }
   ],
   "source": [
    "spark.sql(\"\"\"\n",
    "        SELECT * \n",
    "        FROM my_temp_view\n",
    "        LIMIT 5\n",
    "         \"\"\").show(truncate=False)"
   ]
  },
  {
   "cell_type": "markdown",
   "id": "b70edf17",
   "metadata": {},
   "source": [
    "### Select the count of males and females in the dataset"
   ]
  },
  {
   "cell_type": "code",
   "execution_count": 32,
   "id": "00e9fd65",
   "metadata": {},
   "outputs": [
    {
     "name": "stdout",
     "output_type": "stream",
     "text": [
      "+------+-----+\n",
      "|sex   |count|\n",
      "+------+-----+\n",
      "|NULL  |1122 |\n",
      "|female|2218 |\n",
      "|male  |1825 |\n",
      "+------+-----+\n",
      "\n"
     ]
    }
   ],
   "source": [
    "spark.sql(\"\"\"\n",
    "        SELECT sex,COUNT(*) as count\n",
    "        FROM my_temp_view\n",
    "        GROUP BY sex\n",
    "         \"\"\").show(truncate=False)"
   ]
  },
  {
   "cell_type": "markdown",
   "id": "73683674",
   "metadata": {},
   "source": [
    "### How many people did survive, and how many didn't?"
   ]
  },
  {
   "cell_type": "code",
   "execution_count": 33,
   "id": "1e5a3908",
   "metadata": {},
   "outputs": [
    {
     "name": "stdout",
     "output_type": "stream",
     "text": [
      "+----+-------+\n",
      "|Dead|Survive|\n",
      "+----+-------+\n",
      "|2236|2929   |\n",
      "+----+-------+\n",
      "\n"
     ]
    }
   ],
   "source": [
    "spark.sql(\"\"\"\n",
    "        SELECT COUNT(*) as Dead, (select count(*)\n",
    "                                  from my_temp_view\n",
    "                                  where state='released') as Survive\n",
    "        FROM my_temp_view\n",
    "        where state IN ('deceased','isolated')\n",
    "         \"\"\").show(truncate=False)\n",
    "\n",
    "# spark.sql(\"\"\"\n",
    "#         SELECT COUNT(*) as Dead\n",
    "#         FROM my_temp_view\n",
    "#         where deceased_date IS NOT NULL\n",
    "#          \"\"\").show()\n",
    "\n",
    "\n",
    "\n"
   ]
  },
  {
   "cell_type": "markdown",
   "id": "d4424228",
   "metadata": {},
   "source": [
    "### Now, let's perform some preprocessing using SQL:\n",
    "1. Convert *age* column to double after removing the 's' at the end -- *hint: check SUBSTRING method*\n",
    "2. Select only the following columns: `['sex', 'age', 'province', 'state']`\n",
    "3. Store the result of the query in a new dataframe"
   ]
  },
  {
   "cell_type": "code",
   "execution_count": 34,
   "id": "16994e4d",
   "metadata": {},
   "outputs": [
    {
     "name": "stdout",
     "output_type": "stream",
     "text": [
      "+----+\n",
      "|age |\n",
      "+----+\n",
      "|50.0|\n",
      "|30.0|\n",
      "|50.0|\n",
      "|20.0|\n",
      "|20.0|\n",
      "|50.0|\n",
      "|20.0|\n",
      "|20.0|\n",
      "|30.0|\n",
      "|60.0|\n",
      "|50.0|\n",
      "|20.0|\n",
      "|80.0|\n",
      "|60.0|\n",
      "|70.0|\n",
      "|70.0|\n",
      "|70.0|\n",
      "|20.0|\n",
      "|70.0|\n",
      "|70.0|\n",
      "+----+\n",
      "only showing top 20 rows\n",
      "\n"
     ]
    }
   ],
   "source": [
    "spark.sql(\"\"\"\n",
    "        SELECT CAST(SUBSTRING(age,0,2) as double) as age\n",
    "        FROM my_temp_view\n",
    "         \"\"\").show(truncate=False)"
   ]
  },
  {
   "cell_type": "code",
   "execution_count": 35,
   "id": "268493d1",
   "metadata": {},
   "outputs": [
    {
     "name": "stdout",
     "output_type": "stream",
     "text": [
      "+------+----+--------+--------+\n",
      "|sex   |age |province|state   |\n",
      "+------+----+--------+--------+\n",
      "|male  |50.0|Seoul   |released|\n",
      "|male  |30.0|Seoul   |released|\n",
      "|male  |50.0|Seoul   |released|\n",
      "|male  |20.0|Seoul   |released|\n",
      "|female|20.0|Seoul   |released|\n",
      "|female|50.0|Seoul   |released|\n",
      "|male  |20.0|Seoul   |released|\n",
      "|male  |20.0|Seoul   |released|\n",
      "|male  |30.0|Seoul   |released|\n",
      "|female|60.0|Seoul   |released|\n",
      "|female|50.0|Seoul   |released|\n",
      "|male  |20.0|Seoul   |released|\n",
      "|male  |80.0|Seoul   |deceased|\n",
      "|female|60.0|Seoul   |released|\n",
      "|male  |70.0|Seoul   |released|\n",
      "|male  |70.0|Seoul   |released|\n",
      "|male  |70.0|Seoul   |released|\n",
      "|male  |20.0|Seoul   |released|\n",
      "|female|70.0|Seoul   |released|\n",
      "|female|70.0|Seoul   |released|\n",
      "+------+----+--------+--------+\n",
      "only showing top 20 rows\n",
      "\n"
     ]
    }
   ],
   "source": [
    "spark.sql(\"\"\"\n",
    "        SELECT sex,CAST(SUBSTRING(age,0,2) as double) as age,province,state\n",
    "        FROM my_temp_view\n",
    "         \"\"\").show(truncate=False)"
   ]
  },
  {
   "cell_type": "code",
   "execution_count": 36,
   "id": "05472868",
   "metadata": {},
   "outputs": [
    {
     "name": "stdout",
     "output_type": "stream",
     "text": [
      "+------+----+--------+--------+\n",
      "|sex   |age |province|state   |\n",
      "+------+----+--------+--------+\n",
      "|male  |50.0|Seoul   |released|\n",
      "|male  |30.0|Seoul   |released|\n",
      "|male  |50.0|Seoul   |released|\n",
      "|male  |20.0|Seoul   |released|\n",
      "|female|20.0|Seoul   |released|\n",
      "|female|50.0|Seoul   |released|\n",
      "|male  |20.0|Seoul   |released|\n",
      "|male  |20.0|Seoul   |released|\n",
      "|male  |30.0|Seoul   |released|\n",
      "|female|60.0|Seoul   |released|\n",
      "|female|50.0|Seoul   |released|\n",
      "|male  |20.0|Seoul   |released|\n",
      "|male  |80.0|Seoul   |deceased|\n",
      "|female|60.0|Seoul   |released|\n",
      "|male  |70.0|Seoul   |released|\n",
      "|male  |70.0|Seoul   |released|\n",
      "|male  |70.0|Seoul   |released|\n",
      "|male  |20.0|Seoul   |released|\n",
      "|female|70.0|Seoul   |released|\n",
      "|female|70.0|Seoul   |released|\n",
      "+------+----+--------+--------+\n",
      "only showing top 20 rows\n",
      "\n"
     ]
    }
   ],
   "source": [
    "df = spark.sql(\"\"\"\n",
    "        SELECT sex,CAST(SUBSTRING(age,0,2) as double) as age,province,state\n",
    "        FROM my_temp_view\n",
    "         \"\"\")\n",
    "df.show(truncate=False)"
   ]
  }
 ],
 "metadata": {
  "kernelspec": {
   "display_name": "Python 3 (ipykernel)",
   "language": "python",
   "name": "python3"
  },
  "language_info": {
   "codemirror_mode": {
    "name": "ipython",
    "version": 3
   },
   "file_extension": ".py",
   "mimetype": "text/x-python",
   "name": "python",
   "nbconvert_exporter": "python",
   "pygments_lexer": "ipython3",
   "version": "3.11.5"
  }
 },
 "nbformat": 4,
 "nbformat_minor": 5
}
